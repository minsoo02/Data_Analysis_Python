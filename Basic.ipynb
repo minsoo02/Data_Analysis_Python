{
  "nbformat": 4,
  "nbformat_minor": 0,
  "metadata": {
    "colab": {
      "name": "Basic.ipynb",
      "version": "0.3.2",
      "provenance": []
    },
    "kernelspec": {
      "name": "python3",
      "display_name": "Python 3"
    }
  },
  "cells": [
    {
      "cell_type": "markdown",
      "metadata": {
        "id": "lzxW_yZVSW2L",
        "colab_type": "text"
      },
      "source": [
        "### 자료형\n"
      ]
    },
    {
      "cell_type": "markdown",
      "metadata": {
        "id": "qiOrBoXiSg4B",
        "colab_type": "text"
      },
      "source": [
        "#### 3. Dictionary\n",
        "1. {key1:value1, key2:value2, …}  \n",
        "key: 변하지 않는 값. 때문에 List 불가능, Tuple 가능  \n",
        "value: 변하지 않는 값 & 변하는 값. List 가능  \n",
        "\n",
        "2. 요소 삭제\n",
        "> del a[1]\n"
      ]
    },
    {
      "cell_type": "code",
      "metadata": {
        "id": "4bHr8EoDVMNq",
        "colab_type": "code",
        "colab": {}
      },
      "source": [
        "del a[1]"
      ],
      "execution_count": 0,
      "outputs": []
    },
    {
      "cell_type": "markdown",
      "metadata": {
        "id": "7mrc78dEVPIS",
        "colab_type": "text"
      },
      "source": [
        "3. key List 만들기\n",
        "> `>>>a.keys() # key만을 모아서 dict_keys 객체 반환`  \n",
        "dict_keys([key1, key2 ...]) # iteration 구문 가능"
      ]
    },
    {
      "cell_type": "code",
      "metadata": {
        "id": "5CuOMRlGWvm3",
        "colab_type": "code",
        "colab": {}
      },
      "source": [
        ">>> a.keys() # key만을 모아서 dict_keys 객체 반환\n",
        "dict_keys([key1, key2 ...]) # iteration 구문 가능"
      ],
      "execution_count": 0,
      "outputs": []
    },
    {
      "cell_type": "code",
      "metadata": {
        "id": "LBX7pokBXRVd",
        "colab_type": "code",
        "colab": {}
      },
      "source": [
        ">>> list(a.keys())\n",
        "[key1, key2 ...]"
      ],
      "execution_count": 0,
      "outputs": []
    },
    {
      "cell_type": "code",
      "metadata": {
        "id": "WYRLX1rKXbg4",
        "colab_type": "code",
        "colab": {}
      },
      "source": [
        ">>> a.values()\n",
        "dict_values([value1, value2 ...])"
      ],
      "execution_count": 0,
      "outputs": []
    },
    {
      "cell_type": "code",
      "metadata": {
        "id": "O3aIWjKGXeXd",
        "colab_type": "code",
        "colab": {}
      },
      "source": [
        ">>> a.items()\n",
        "dict_items([(key1,value1), (key2,value2)])"
      ],
      "execution_count": 0,
      "outputs": []
    },
    {
      "cell_type": "markdown",
      "metadata": {
        "id": "tsslECH-YWhU",
        "colab_type": "text"
      },
      "source": [
        "4. key, value 쌍 모두 지우기"
      ]
    },
    {
      "cell_type": "code",
      "metadata": {
        "id": "heGYGlbyYZ3D",
        "colab_type": "code",
        "colab": {}
      },
      "source": [
        ""
      ],
      "execution_count": 0,
      "outputs": []
    }
  ]
}