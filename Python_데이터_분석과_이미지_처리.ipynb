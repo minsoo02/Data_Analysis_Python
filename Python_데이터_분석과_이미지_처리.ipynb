{
  "nbformat": 4,
  "nbformat_minor": 0,
  "metadata": {
    "colab": {
      "name": "Python 데이터 분석과 이미지 처리",
      "provenance": [],
      "include_colab_link": true
    },
    "kernelspec": {
      "name": "python3",
      "display_name": "Python 3"
    }
  },
  "cells": [
    {
      "cell_type": "markdown",
      "metadata": {
        "id": "view-in-github",
        "colab_type": "text"
      },
      "source": [
        "<a href=\"https://colab.research.google.com/github/minsoo02/Python/blob/master/Python_%EB%8D%B0%EC%9D%B4%ED%84%B0_%EB%B6%84%EC%84%9D%EA%B3%BC_%EC%9D%B4%EB%AF%B8%EC%A7%80_%EC%B2%98%EB%A6%AC.ipynb\" target=\"_parent\"><img src=\"https://colab.research.google.com/assets/colab-badge.svg\" alt=\"Open In Colab\"/></a>"
      ]
    },
    {
      "cell_type": "markdown",
      "metadata": {
        "id": "TsLlhCrpuIoq",
        "colab_type": "text"
      },
      "source": [
        "### 데이터 분석과 이미지 처리\n",
        "- 데이터 분석 : 데이터를 수집하고, 분류하여 시각적으로 표현하는 과정\n",
        "- 이미지 처리 : 특정한 목적에 맞게 이미지를 가공하는 과정"
      ]
    },
    {
      "cell_type": "markdown",
      "metadata": {
        "id": "wYerESwcvrXB",
        "colab_type": "text"
      },
      "source": [
        "### 행렬의 필요성\n",
        "- 컴퓨터 메모리 구조, 이미지, 표 형식 데이터는 모두 행렬로 표현 가능"
      ]
    },
    {
      "cell_type": "markdown",
      "metadata": {
        "id": "YksU3VrxRkvj",
        "colab_type": "text"
      },
      "source": [
        "### Numpy의 기본 사용법\n",
        "Numpy의 차원\n",
        "- 1차원 축(행) : axis 0 -> Vector\n",
        "- 2차원 축(행) : axis 1 -> Matrix\n",
        "- 3차원 축(행) : axis 2 -> Tensor (3차원 이상)"
      ]
    },
    {
      "cell_type": "markdown",
      "metadata": {
        "id": "mHQwWRRlXmaD",
        "colab_type": "text"
      },
      "source": [
        "배열의 초기화"
      ]
    },
    {
      "cell_type": "code",
      "metadata": {
        "id": "WqMg3XAVvrBN",
        "colab_type": "code",
        "outputId": "d39adad1-5155-4dd2-9665-74b2c3880c81",
        "colab": {
          "base_uri": "https://localhost:8080/",
          "height": 51
        }
      },
      "source": [
        "import numpy as np\n",
        "\n",
        "list_data = [1,2,3]\n",
        "array = np.array(list_data)\n",
        "\n",
        "print(array)\n",
        "print(array.size)\n"
      ],
      "execution_count": 0,
      "outputs": [
        {
          "output_type": "stream",
          "text": [
            "[1 2 3]\n",
            "3\n"
          ],
          "name": "stdout"
        }
      ]
    },
    {
      "cell_type": "code",
      "metadata": {
        "id": "8FInC_BctAdg",
        "colab_type": "code",
        "outputId": "7b2b6109-cb5c-4460-d861-aefacfe8efc4",
        "colab": {
          "base_uri": "https://localhost:8080/",
          "height": 34
        }
      },
      "source": [
        "# 0부터 3까지 배열 만들기\n",
        "array1 = np.arange(4)\n",
        "print(array1)"
      ],
      "execution_count": 0,
      "outputs": [
        {
          "output_type": "stream",
          "text": [
            "[0 1 2 3]\n"
          ],
          "name": "stdout"
        }
      ]
    },
    {
      "cell_type": "code",
      "metadata": {
        "id": "uM8NvSI-UhCM",
        "colab_type": "code",
        "outputId": "d5b28218-7564-4c80-83ad-886126864dfa",
        "colab": {
          "base_uri": "https://localhost:8080/",
          "height": 85
        }
      },
      "source": [
        "# 4*4 배열을 만들고, 0으로 초기화, 데이터 타입은 float\n",
        "array2 = np.zeros((4,4), dtype = float)\n",
        "print(array2)"
      ],
      "execution_count": 0,
      "outputs": [
        {
          "output_type": "stream",
          "text": [
            "[[0. 0. 0. 0.]\n",
            " [0. 0. 0. 0.]\n",
            " [0. 0. 0. 0.]\n",
            " [0. 0. 0. 0.]]\n"
          ],
          "name": "stdout"
        }
      ]
    },
    {
      "cell_type": "code",
      "metadata": {
        "id": "MiKBBn0CU7wY",
        "colab_type": "code",
        "outputId": "d0f06de1-6670-438c-e87c-69af463002b6",
        "colab": {
          "base_uri": "https://localhost:8080/",
          "height": 68
        }
      },
      "source": [
        "# 3*3 배열을 만들고, 1로 초기화, 데이터 타입은 string\n",
        "array3 = np.ones((3,3), dtype = str)\n",
        "print(array3)"
      ],
      "execution_count": 0,
      "outputs": [
        {
          "output_type": "stream",
          "text": [
            "[['1' '1' '1']\n",
            " ['1' '1' '1']\n",
            " ['1' '1' '1']]\n"
          ],
          "name": "stdout"
        }
      ]
    },
    {
      "cell_type": "code",
      "metadata": {
        "id": "f9A-bgr6VImh",
        "colab_type": "code",
        "outputId": "8da63250-b1c4-4e92-b787-f00f51eb1cad",
        "colab": {
          "base_uri": "https://localhost:8080/",
          "height": 68
        }
      },
      "source": [
        "# 3*3배열, 0부터 9까지 랜덤하게 초기화\n",
        "# 배열은 범위를 정할 때, 파라미터 값보다 1 작은 범위까지(여기서는 9까지)\n",
        "array4 = np.random.randint(1, 10, (3,3))\n",
        "print(array4)"
      ],
      "execution_count": 0,
      "outputs": [
        {
          "output_type": "stream",
          "text": [
            "[[5 3 9]\n",
            " [1 2 1]\n",
            " [5 9 7]]\n"
          ],
          "name": "stdout"
        }
      ]
    },
    {
      "cell_type": "code",
      "metadata": {
        "id": "IoOBu2hxWLU0",
        "colab_type": "code",
        "outputId": "1e6f59f0-a4c7-4737-b317-75feca2ceba4",
        "colab": {
          "base_uri": "https://localhost:8080/",
          "height": 68
        }
      },
      "source": [
        "# 평균이 0이고, 표준편차가 1, 표준정규분포를 띄는 배열\n",
        "array5 = np.random.normal(0, 1, (3,3))\n",
        "print(array5)"
      ],
      "execution_count": 0,
      "outputs": [
        {
          "output_type": "stream",
          "text": [
            "[[ 0.15979781 -1.06465229 -1.13097614]\n",
            " [-0.45890829 -0.11774574 -0.09639832]\n",
            " [ 0.3033913  -1.48622064 -0.01446499]]\n"
          ],
          "name": "stdout"
        }
      ]
    },
    {
      "cell_type": "markdown",
      "metadata": {
        "id": "almtQiLLXp3D",
        "colab_type": "text"
      },
      "source": [
        "배열의 합치기"
      ]
    },
    {
      "cell_type": "code",
      "metadata": {
        "id": "LBi8751qXc0A",
        "colab_type": "code",
        "outputId": "babc6989-9095-4774-af10-23c633560376",
        "colab": {
          "base_uri": "https://localhost:8080/",
          "height": 51
        }
      },
      "source": [
        "# 가로로 합치기\n",
        "array6 = np.array([1,2,3])\n",
        "array7 = np.array([4,5,6])\n",
        "\n",
        "array8 = np.concatenate([array6, array7])\n",
        "\n",
        "print(array8.shape)\n",
        "print(array8)"
      ],
      "execution_count": 0,
      "outputs": [
        {
          "output_type": "stream",
          "text": [
            "(6,)\n",
            "[1 2 3 4 5 6]\n"
          ],
          "name": "stdout"
        }
      ]
    },
    {
      "cell_type": "code",
      "metadata": {
        "id": "yUREgaClZgoE",
        "colab_type": "code",
        "outputId": "4ed90a9a-2254-4b4e-e799-8e37840ff724",
        "colab": {
          "base_uri": "https://localhost:8080/",
          "height": 153
        }
      },
      "source": [
        "# 세로로 합치기\n",
        "array11 = np.arange(4).reshape((1,4))\n",
        "array12 = np.arange(8).reshape((2,4))\n",
        "\n",
        "print(array11)\n",
        "print(array12)\n",
        "print('\\n')\n",
        "\n",
        "array13 = np.concatenate([array11, array12], axis=0)\n",
        "print(array13)"
      ],
      "execution_count": 0,
      "outputs": [
        {
          "output_type": "stream",
          "text": [
            "[[0 1 2 3]]\n",
            "[[0 1 2 3]\n",
            " [4 5 6 7]]\n",
            "\n",
            "\n",
            "[[0 1 2 3]\n",
            " [0 1 2 3]\n",
            " [4 5 6 7]]\n"
          ],
          "name": "stdout"
        }
      ]
    },
    {
      "cell_type": "markdown",
      "metadata": {
        "id": "5DA5_EY-YmH6",
        "colab_type": "text"
      },
      "source": [
        "배열의 형태 바꾸기"
      ]
    },
    {
      "cell_type": "code",
      "metadata": {
        "id": "uwyrCUJNYLvH",
        "colab_type": "code",
        "outputId": "1d079a2d-8905-427a-a66d-6426892f4371",
        "colab": {
          "base_uri": "https://localhost:8080/",
          "height": 68
        }
      },
      "source": [
        "# 1차원 배열 -> 2*2 2차원 배열\n",
        "array9 = np.array([1,2,3,4])\n",
        "array10 = array9.reshape((2,2))\n",
        "\n",
        "print(array10.shape)\n",
        "print(array10)"
      ],
      "execution_count": 0,
      "outputs": [
        {
          "output_type": "stream",
          "text": [
            "(2, 2)\n",
            "[[1 2]\n",
            " [3 4]]\n"
          ],
          "name": "stdout"
        }
      ]
    },
    {
      "cell_type": "markdown",
      "metadata": {
        "id": "suGe9SRlay8y",
        "colab_type": "text"
      },
      "source": [
        "배열의 나누기"
      ]
    },
    {
      "cell_type": "code",
      "metadata": {
        "id": "5O3ux8afayhT",
        "colab_type": "code",
        "outputId": "78676fb0-7e84-40d5-c964-1a28e74fb944",
        "colab": {
          "base_uri": "https://localhost:8080/",
          "height": 153
        }
      },
      "source": [
        "# 2*4 배열 -> 2*2배열 두 개로\n",
        "array14 = np.arange(8).reshape((2,4))\n",
        "left, right = np.split(array14, [2], axis=1) # array14를 나눔, index 2를 기준으로, 이 index는 열을 뜻함\n",
        "print(array14)\n",
        "print('\\n')\n",
        "\n",
        "print(left)\n",
        "print(right)"
      ],
      "execution_count": 0,
      "outputs": [
        {
          "output_type": "stream",
          "text": [
            "[[0 1 2 3]\n",
            " [4 5 6 7]]\n",
            "\n",
            "\n",
            "[[0 1]\n",
            " [4 5]]\n",
            "[[2 3]\n",
            " [6 7]]\n"
          ],
          "name": "stdout"
        }
      ]
    },
    {
      "cell_type": "markdown",
      "metadata": {
        "id": "0ITtzIFsdNP6",
        "colab_type": "text"
      },
      "source": [
        "numpy의 상수연산"
      ]
    },
    {
      "cell_type": "code",
      "metadata": {
        "id": "KvCCJCN_Y6e2",
        "colab_type": "code",
        "colab": {
          "base_uri": "https://localhost:8080/",
          "height": 51
        },
        "outputId": "07ef94d3-bd8e-4478-c0d4-71ef35f7b49d"
      },
      "source": [
        "import numpy as np\n",
        "\n",
        "array15 = np.random.randint(1, 10, size = 4).reshape(2,2)\n",
        "print(array15)"
      ],
      "execution_count": 7,
      "outputs": [
        {
          "output_type": "stream",
          "text": [
            "[[1 6]\n",
            " [3 1]]\n"
          ],
          "name": "stdout"
        }
      ]
    },
    {
      "cell_type": "code",
      "metadata": {
        "id": "nFiesl-fdjhr",
        "colab_type": "code",
        "colab": {
          "base_uri": "https://localhost:8080/",
          "height": 51
        },
        "outputId": "66d01724-a5a8-4829-9429-2d8527b97fa0"
      },
      "source": [
        "result_array = array15 * 2\n",
        "print(result_array)"
      ],
      "execution_count": 9,
      "outputs": [
        {
          "output_type": "stream",
          "text": [
            "[[ 2 12]\n",
            " [ 6  2]]\n"
          ],
          "name": "stdout"
        }
      ]
    },
    {
      "cell_type": "markdown",
      "metadata": {
        "id": "GFGsyk_VeQPx",
        "colab_type": "text"
      },
      "source": [
        "서로 다른 형태의 numpy 연산(브로드캐스트)"
      ]
    },
    {
      "cell_type": "code",
      "metadata": {
        "id": "iTathmP1eAF8",
        "colab_type": "code",
        "colab": {
          "base_uri": "https://localhost:8080/",
          "height": 51
        },
        "outputId": "de61ac26-484e-4581-af34-ae16983e9507"
      },
      "source": [
        "array16 = np.arange(4).reshape(2,2) # 2*2\n",
        "array17 = np.arange(2) # 1*2\n",
        "result_array2 = array16 + array17\n",
        "\n",
        "print(result_array2)"
      ],
      "execution_count": 19,
      "outputs": [
        {
          "output_type": "stream",
          "text": [
            "[[0 2]\n",
            " [2 4]]\n"
          ],
          "name": "stdout"
        }
      ]
    },
    {
      "cell_type": "code",
      "metadata": {
        "id": "qkizSCyTezWb",
        "colab_type": "code",
        "colab": {
          "base_uri": "https://localhost:8080/",
          "height": 85
        },
        "outputId": "818fa53a-9bd3-4f1b-8061-51398a991268"
      },
      "source": [
        "array18 = np.arange(8).reshape(2,4)\n",
        "array19 = np.arange(8).reshape(2,4)\n",
        "result_array3 = np.concatenate([array18, array19], axis=0)\n",
        "\n",
        "array20 = np.arange(4).reshape(4,1)\n",
        "\n",
        "print(result_array3 + array20)"
      ],
      "execution_count": 23,
      "outputs": [
        {
          "output_type": "stream",
          "text": [
            "[[ 0  1  2  3]\n",
            " [ 5  6  7  8]\n",
            " [ 2  3  4  5]\n",
            " [ 7  8  9 10]]\n"
          ],
          "name": "stdout"
        }
      ]
    },
    {
      "cell_type": "markdown",
      "metadata": {
        "id": "JSRsJAKviK2R",
        "colab_type": "text"
      },
      "source": [
        "numpy의 마스킹 연산\n",
        "- 각 원소에 대하여 체크"
      ]
    },
    {
      "cell_type": "code",
      "metadata": {
        "id": "zkQs3rlfhFI5",
        "colab_type": "code",
        "colab": {
          "base_uri": "https://localhost:8080/",
          "height": 221
        },
        "outputId": "619545a2-3517-4ba9-dc4f-4197b3fe6745"
      },
      "source": [
        "array21 = np.arange(16).reshape(4,4)\n",
        "print(array21)\n",
        "\n",
        "array22 = array21 < 10\n",
        "print(array22)\n",
        "\n",
        "array21[array22] = 100\n",
        "print(array21)"
      ],
      "execution_count": 26,
      "outputs": [
        {
          "output_type": "stream",
          "text": [
            "[[ 0  1  2  3]\n",
            " [ 4  5  6  7]\n",
            " [ 8  9 10 11]\n",
            " [12 13 14 15]]\n",
            "[[ True  True  True  True]\n",
            " [ True  True  True  True]\n",
            " [ True  True False False]\n",
            " [False False False False]]\n",
            "[[100 100 100 100]\n",
            " [100 100 100 100]\n",
            " [100 100  10  11]\n",
            " [ 12  13  14  15]]\n"
          ],
          "name": "stdout"
        }
      ]
    },
    {
      "cell_type": "markdown",
      "metadata": {
        "id": "MluufiFEjTYP",
        "colab_type": "text"
      },
      "source": [
        "numpy의 집계함수"
      ]
    },
    {
      "cell_type": "code",
      "metadata": {
        "id": "-EYuGjj6i1zk",
        "colab_type": "code",
        "colab": {
          "base_uri": "https://localhost:8080/",
          "height": 85
        },
        "outputId": "a9fb9f89-8129-4718-a4b1-c7e28d0b6f36"
      },
      "source": [
        "array23 = np.arange(16).reshape(4,4)\n",
        "print(np.max(array23))\n",
        "print(np.min(array23))\n",
        "print(np.sum(array23))\n",
        "print(np.mean(array23))"
      ],
      "execution_count": 30,
      "outputs": [
        {
          "output_type": "stream",
          "text": [
            "15\n",
            "0\n",
            "120\n",
            "7.5\n"
          ],
          "name": "stdout"
        }
      ]
    },
    {
      "cell_type": "code",
      "metadata": {
        "id": "_OB90c1Ljw_d",
        "colab_type": "code",
        "colab": {
          "base_uri": "https://localhost:8080/",
          "height": 102
        },
        "outputId": "6edc0e58-ed96-449c-ff7b-ccb11e4cf1b9"
      },
      "source": [
        "print(array23)\n",
        "print(\"합계: \",np.sum(array23, axis=0))"
      ],
      "execution_count": 31,
      "outputs": [
        {
          "output_type": "stream",
          "text": [
            "[[ 0  1  2  3]\n",
            " [ 4  5  6  7]\n",
            " [ 8  9 10 11]\n",
            " [12 13 14 15]]\n",
            "합계:  [24 28 32 36]\n"
          ],
          "name": "stdout"
        }
      ]
    },
    {
      "cell_type": "markdown",
      "metadata": {
        "id": "IOjU3BH_kjkU",
        "colab_type": "text"
      },
      "source": [
        "numpy의 저장과 불러오기"
      ]
    },
    {
      "cell_type": "code",
      "metadata": {
        "id": "ca_HM0IWkG7A",
        "colab_type": "code",
        "colab": {
          "base_uri": "https://localhost:8080/",
          "height": 34
        },
        "outputId": "17d0e46b-7dfc-4c59-ebe7-5e7aa653641c"
      },
      "source": [
        "import numpy as np\n",
        "\n",
        "# 단일 객체 저장 및 불러오기\n",
        "arr = np.arange(1,10)\n",
        "np.save('saved.npy', arr)\n",
        "\n",
        "result = np.load('saved.npy')\n",
        "print(result)"
      ],
      "execution_count": 1,
      "outputs": [
        {
          "output_type": "stream",
          "text": [
            "[1 2 3 4 5 6 7 8 9]\n"
          ],
          "name": "stdout"
        }
      ]
    },
    {
      "cell_type": "code",
      "metadata": {
        "id": "rfDLqc4-pBtK",
        "colab_type": "code",
        "colab": {
          "base_uri": "https://localhost:8080/",
          "height": 51
        },
        "outputId": "9559f0e3-93a5-4d5c-e371-d0ccd43238c6"
      },
      "source": [
        "# 복수 객체 저장 및 불러오기\n",
        "arr1 = np.arange(1,10)\n",
        "arr2 = np.arange(10,20)\n",
        "\n",
        "np.savez('saved.npz', array1=arr1, array2=arr2)\n",
        "\n",
        "data = np.load('saved.npz')\n",
        "result1 = data['array1']\n",
        "result2 = data['array2']\n",
        "print(result1)\n",
        "print(result2)"
      ],
      "execution_count": 2,
      "outputs": [
        {
          "output_type": "stream",
          "text": [
            "[1 2 3 4 5 6 7 8 9]\n",
            "[10 11 12 13 14 15 16 17 18 19]\n"
          ],
          "name": "stdout"
        }
      ]
    },
    {
      "cell_type": "markdown",
      "metadata": {
        "id": "szA3AEIYmpYm",
        "colab_type": "text"
      },
      "source": [
        "numpy 원소의 정렬"
      ]
    },
    {
      "cell_type": "code",
      "metadata": {
        "id": "eBNjrdYsmRtf",
        "colab_type": "code",
        "colab": {
          "base_uri": "https://localhost:8080/",
          "height": 34
        },
        "outputId": "bbd0060c-147c-4cba-f66e-2d1c229e6a75"
      },
      "source": [
        "# 오름차순 정렬\n",
        "arr3 = np.array([5,6,3,2,10])\n",
        "arr3.sort()\n",
        "\n",
        "print(arr3)"
      ],
      "execution_count": 3,
      "outputs": [
        {
          "output_type": "stream",
          "text": [
            "[ 2  3  5  6 10]\n"
          ],
          "name": "stdout"
        }
      ]
    },
    {
      "cell_type": "code",
      "metadata": {
        "id": "wyESxa7hnJWF",
        "colab_type": "code",
        "colab": {
          "base_uri": "https://localhost:8080/",
          "height": 34
        },
        "outputId": "b1cb61df-5a08-4da1-e86e-106ad07d32c7"
      },
      "source": [
        "# 내림차순 정렬\n",
        "print(arr3[::-1])"
      ],
      "execution_count": 4,
      "outputs": [
        {
          "output_type": "stream",
          "text": [
            "[10  6  5  3  2]\n"
          ],
          "name": "stdout"
        }
      ]
    },
    {
      "cell_type": "code",
      "metadata": {
        "id": "fY0boTINnO-_",
        "colab_type": "code",
        "colab": {
          "base_uri": "https://localhost:8080/",
          "height": 85
        },
        "outputId": "c1b44bab-615c-41f8-d5b5-133c58542c12"
      },
      "source": [
        "# 각 열을 기준으로 정렬\n",
        "arr4 = np.array([[6,5,8,9,1], [5,4,3,9,11]])\n",
        "print(arr4)\n",
        "\n",
        "arr4.sort(axis=0)\n",
        "print(arr4)"
      ],
      "execution_count": 7,
      "outputs": [
        {
          "output_type": "stream",
          "text": [
            "[[ 6  5  8  9  1]\n",
            " [ 5  4  3  9 11]]\n",
            "[[ 5  4  3  9  1]\n",
            " [ 6  5  8  9 11]]\n"
          ],
          "name": "stdout"
        }
      ]
    },
    {
      "cell_type": "code",
      "metadata": {
        "id": "8qoxNT5cnwna",
        "colab_type": "code",
        "colab": {
          "base_uri": "https://localhost:8080/",
          "height": 34
        },
        "outputId": "1359bef3-a9af-4866-8397-e3c82ce42f44"
      },
      "source": [
        "# 균일한 간격으로 데이터 생성\n",
        "arr5 = np.linspace(0, 10, 5) # 0부터 10까지 5개의 숫자로 채움\n",
        "\n",
        "print(arr5)"
      ],
      "execution_count": 9,
      "outputs": [
        {
          "output_type": "stream",
          "text": [
            "[ 0.   2.5  5.   7.5 10. ]\n"
          ],
          "name": "stdout"
        }
      ]
    },
    {
      "cell_type": "code",
      "metadata": {
        "id": "XtnBISxxoWDI",
        "colab_type": "code",
        "colab": {
          "base_uri": "https://localhost:8080/",
          "height": 51
        },
        "outputId": "4e87c4f7-47d0-4ea1-c0c5-8d8d39003e73"
      },
      "source": [
        "# 난수의 재연(실행마다 결과 동일)\n",
        "np.random.seed(7)\n",
        "arr6 = np.random.randint(0, 10, (2,3))\n",
        "\n",
        "print(arr6)"
      ],
      "execution_count": 14,
      "outputs": [
        {
          "output_type": "stream",
          "text": [
            "[[4 9 6]\n",
            " [3 3 7]]\n"
          ],
          "name": "stdout"
        }
      ]
    },
    {
      "cell_type": "code",
      "metadata": {
        "id": "v5bVKljJo-A_",
        "colab_type": "code",
        "colab": {
          "base_uri": "https://localhost:8080/",
          "height": 68
        },
        "outputId": "80e02dcf-9a5c-4a2b-85b2-e815b72c5d4a"
      },
      "source": [
        "# numpy 배열 객체 복사\n",
        "arr7 = np.arange(0,10)\n",
        "print('arr7',arr7)\n",
        "\n",
        "arr8 = arr7 # numpy에서는 arr7과 arr8이 같은 주소를 바라보도록\n",
        "arr8[0] = 99 \n",
        "print('arr8',arr8)\n",
        "print('arr7',arr7)"
      ],
      "execution_count": 19,
      "outputs": [
        {
          "output_type": "stream",
          "text": [
            "arr7 [0 1 2 3 4 5 6 7 8 9]\n",
            "arr8 [99  1  2  3  4  5  6  7  8  9]\n",
            "arr7 [99  1  2  3  4  5  6  7  8  9]\n"
          ],
          "name": "stdout"
        }
      ]
    },
    {
      "cell_type": "code",
      "metadata": {
        "id": "mBvSessKpjlC",
        "colab_type": "code",
        "colab": {
          "base_uri": "https://localhost:8080/",
          "height": 68
        },
        "outputId": "b52873c4-7306-49d6-a50e-d89ee8fa8515"
      },
      "source": [
        "arr9 = np.arange(10,20)\n",
        "print(arr9)\n",
        "\n",
        "arr10 = arr9.copy() # 위와 같은 상황을 피하려면 copy()함수를 사용\n",
        "arr10[0] = 99\n",
        "print('arr10',arr10)\n",
        "print('arr9',arr9)"
      ],
      "execution_count": 22,
      "outputs": [
        {
          "output_type": "stream",
          "text": [
            "[10 11 12 13 14 15 16 17 18 19]\n",
            "arr10 [99 11 12 13 14 15 16 17 18 19]\n",
            "arr9 [10 11 12 13 14 15 16 17 18 19]\n"
          ],
          "name": "stdout"
        }
      ]
    },
    {
      "cell_type": "code",
      "metadata": {
        "id": "jGkRVOznqfMi",
        "colab_type": "code",
        "colab": {
          "base_uri": "https://localhost:8080/",
          "height": 34
        },
        "outputId": "c792cf8a-772d-4163-953a-f874b82be393"
      },
      "source": [
        "# 중복된 원소를 제거\n",
        "arr11 = np.array([1,1,2,2,2,3,3,4])\n",
        "print(np.unique(arr11))"
      ],
      "execution_count": 24,
      "outputs": [
        {
          "output_type": "stream",
          "text": [
            "[1 2 3 4]\n"
          ],
          "name": "stdout"
        }
      ]
    }
  ]
}